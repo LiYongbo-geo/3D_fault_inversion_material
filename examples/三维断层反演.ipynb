{
 "cells": [
  {
   "cell_type": "code",
   "execution_count": 5,
   "metadata": {},
   "outputs": [],
   "source": [
    "import matplotlib.pyplot as plt\n",
    "import os\n",
    "import theano\n",
    "import theano.tensor as at\n",
    "from theano.compile.ops import as_op\n",
    "import pymc3 as pm\n",
    "import numpy as np\n",
    "import fault3d as f3\n",
    "from matplotlib import cm\n",
    "pm.set_tt_rng(42)\n",
    "theano.config.floatX = \"float32\"\n",
    "np.random.seed(42)\n",
    "import pandas as pd"
   ]
  },
  {
   "cell_type": "code",
   "execution_count": 2,
   "metadata": {},
   "outputs": [
    {
     "name": "stdout",
     "output_type": "stream",
     "text": [
      "\n",
      "# Aesara version: 1.0.5\n",
      "# PyMC version: 3.8\n",
      "\n"
     ]
    }
   ],
   "source": [
    "print(\n",
    "    f\"\"\"\n",
    "# Aesara version: {theano.__version__}\n",
    "# PyMC version: {pm.__version__}\n",
    "\"\"\"\n",
    ")"
   ]
  },
  {
   "cell_type": "code",
   "execution_count": 3,
   "metadata": {},
   "outputs": [],
   "source": [
    "inp_file = \"data/fault3d.inp\"\n",
    "log_file = \"log.txt\""
   ]
  },
  {
   "cell_type": "code",
   "execution_count": 8,
   "metadata": {},
   "outputs": [
    {
     "data": {
      "image/png": "[encoded data removed]",
      "text/plain": [
       "<Figure size 360x288 with 2 Axes>"
      ]
     },
     "metadata": {},
     "output_type": "display_data"
    },
    {
     "data": {
      "text/plain": [
       "<Figure size 640x480 with 0 Axes>"
      ]
     },
     "metadata": {},
     "output_type": "display_data"
    }
   ],
   "source": [
    "nx = 90\n",
    "ny = 90\n",
    "narea = tuple([-15, 15, -15, 15])\n",
    "nshape = tuple([nx, ny])\n",
    "outfile = f3.fault3d.fault(inp_file, log_file, nx, ny)\n",
    "x = np.linspace(-15, 15, num=90, endpoint=True)\n",
    "y = np.linspace(-15, 15, num=90, endpoint=True)\n",
    "xp, yp = np.meshgrid(x, y)\n",
    "\n",
    "xp = np.array(xp)\n",
    "yp = np.array(yp)\n",
    "data = np.array(outfile).flatten()\n",
    "\n",
    "noise = np.random.normal(0, data.max()*0.05, size=nx*ny)\n",
    "data = data+noise\n",
    "v = {\n",
    "        'x' : list(yp.flatten()),\n",
    "        'y' : list(xp.flatten()),\n",
    "        'data' : data,}\n",
    "v = pd.DataFrame(v)\n",
    "\n",
    "v.to_csv('gravity_multi.csv')\n",
    "x = xp.reshape(nx, ny)\n",
    "y = yp.reshape(nx, ny)\n",
    "da = data.reshape(nx, ny)\n",
    "plt.figure(figsize=(5,4),dpi = 72)\n",
    "plt.contourf(x, y, da, cmap=cm.jet)\n",
    "plt.colorbar()\n",
    "plt.show()\n",
    "plt.savefig(\"df.png\")\n",
    "obs_data = np.concatenate((da[:, 29],da[:, 50],da[44,:]))"
   ]
  },
  {
   "cell_type": "code",
   "execution_count": 5,
   "metadata": {},
   "outputs": [
    {
     "name": "stdout",
     "output_type": "stream",
     "text": [
      "CPU times: user 6 µs, sys: 6 µs, total: 12 µs\n",
      "Wall time: 24.1 µs\n"
     ]
    }
   ],
   "source": [
    "%time\n",
    "np.savetxt('obs_mu.txt', obs_data, delimiter=\"\\n\")"
   ]
  },
  {
   "cell_type": "code",
   "execution_count": 21,
   "metadata": {},
   "outputs": [],
   "source": [
    "def make_datafile(v, length1, depth_mid, depth_bottom, dip, cx, cy):\n",
    "    h2 = depth_mid\n",
    "    h3 = depth_bottom\n",
    "    a1 = length1\n",
    "    da = (h2 - 1)*np.tan(dip*np.pi/180 - np.pi/2)\n",
    "    a2 = length1 - da\n",
    "    cx1 = cx\n",
    "    cx2 = cx1+da/2.0\n",
    "    theta = dip\n",
    "    with open('f3d.dat','w') as f:\n",
    "        f.write('2, 0\\n')\n",
    "        f.write('0.0, 0.0\\n')\n",
    "        f.write(str(v[0])+','+str(1)+','+str(h2)+','+str(a1))\n",
    "        f.write(',12,L,'+str(dip[0]))\n",
    "        f.write(\",90\"+\",GL1,\"+str(cx1)+\",\"+str(0)+\"\\n\")\n",
    "        \n",
    "        f.write(str(v[1])+','+str(h2)+','+str(h3)+','+str(a2))\n",
    "        f.write(',12,L,'+str(dip[1]))\n",
    "        f.write(\",90\"+\",GL2,\"+str(cx1)+\",\"+str(0))"
   ]
  },
  {
   "cell_type": "code",
   "execution_count": 22,
   "metadata": {},
   "outputs": [],
   "source": [
    "@as_op(itypes=[at.fvector, at.fscalar, at.fscalar, at.fscalar, at.fvector, at.fscalar, at.fscalar],otypes=[at.fvector])\n",
    "def get_gravity(density_inv, length1, depth_mid, depth_bottom, dip, cx, cy):\n",
    "    make_datafile(density_inv, length1, depth_mid, depth_bottom, dip, cx, cy)\n",
    "    outfile = f3.fault3d.fault(\"f3d.inp\", log_file, nx, ny)\n",
    "    data = np.array(outfile).flatten()\n",
    "    da = data.reshape(nx, ny)\n",
    "    predict_data = np.concatenate((da[:, 29],da[:, 50],da[44,:]))\n",
    "    os.remove(\"f3d.dat\")\n",
    "    return predict_data"
   ]
  },
  {
   "cell_type": "code",
   "execution_count": 23,
   "metadata": {},
   "outputs": [
    {
     "name": "stderr",
     "output_type": "stream",
     "text": [
      "Only 10 samples in chain.\n",
      "Sequential sampling (1 chains in 1 job)\n",
      "CompoundStep\n",
      ">Slice: [sd]\n",
      ">Slice: [cy]\n",
      ">Slice: [cx]\n",
      ">Slice: [dip]\n",
      ">Slice: [h3]\n",
      ">Slice: [h2]\n",
      ">Slice: [length]\n",
      ">Slice: [density]\n",
      "Sampling chain 0, 0 divergences: 100%|██████████| 20/20 [04:24<00:00, 13.23s/it]\n",
      "/public/home/liyongbo/anaconda3/lib/python3.8/site-packages/pymc3/sampling.py:496: UserWarning: The number of samples is too small to check convergence reliably.\n",
      "  warnings.warn(\"The number of samples is too small to check convergence reliably.\")\n",
      "arviz - WARNING - Shape validation failed: input_shape: (1, 10), minimum_shape: (chains=2, draws=4)\n"
     ]
    }
   ],
   "source": [
    "inp_file = \"f3d.inp\"\n",
    "#密度，顶深，底深，顶宽，走向延伸长度，倾向角度，走向角度，中心坐标X,中心坐标Y\n",
    "m1 = pm.Model()\n",
    "with m1:\n",
    "    #密度在[-0.1, 2]之间均匀采样\n",
    "    density_inv = pm.Uniform('density', lower = 0.01, upper = 1, shape = 2)\n",
    "    length = pm.Uniform('length', lower = 3, upper = 15)\n",
    "    h2 = pm.Uniform(\"h2\", lower = 2, upper = 3.5)\n",
    "    h3 = pm.Uniform(\"h3\", lower = 3.5, upper = 8)\n",
    "    dip = pm.Normal(\"dip\", mu = 120, sigma = 10, shape = 2)\n",
    "    cx = pm.Uniform(\"cx\", lower = -4, upper = 5)\n",
    "    cy = pm.Uniform(\"cy\", lower = -4, upper = 5)\n",
    "    #dip1 = 180-dip\n",
    "    sd  = pm.HalfNormal(\"sd\", sigma = 10)\n",
    "    gz_exp = get_gravity(density_inv, length, h2, h3, dip, cx, cy)\n",
    "    \n",
    "    predict = pm.Deterministic(\"predict_data\", gz_exp)   #Save the trace\n",
    "    jobs = pm.Normal('obsj', mu= gz_exp, sigma= sd, observed= obs_data)\n",
    "    #advifit = pm.fit(method=\"advi\")\n",
    "    step = pm.Slice()\n",
    "    #对后验进行采样\n",
    "    #MAP = pm.find_MAP()\n",
    "    trace = pm.sample(draws = 10, tune = 10, chains = 1, cores =1, step=step)    #step = step, start = map_estimate   \n",
    "    #ppc = pm.sample_posterior_predictive(trace)\n",
    "    # Get Summary"
   ]
  },
  {
   "cell_type": "code",
   "execution_count": 27,
   "metadata": {},
   "outputs": [
    {
     "name": "stderr",
     "output_type": "stream",
     "text": [
      "/public/home/liyongbo/anaconda3/lib/python3.8/site-packages/arviz/data/io_pymc3.py:88: FutureWarning: Using `from_pymc3` without the model will be deprecated in a future release. Not using the model will return less accurate and less useful results. Make sure you use the model argument or call from_pymc3 within a model context.\n",
      "  warnings.warn(\n",
      "arviz - WARNING - Shape validation failed: input_shape: (1, 10), minimum_shape: (chains=2, draws=4)\n"
     ]
    }
   ],
   "source": [
    "import pandas as pd\n",
    "data_re = pd.DataFrame({\"density_inv1\": np.array(trace[\"density\"][:,0]),\"density_inv2\": np.array(trace[\"density\"][:,1]),\n",
    "                        \"h2\": np.array(trace[\"h2\"]), \"h3\": np.array(trace[\"h3\"]),\n",
    "                       \"dip1\": np.array(trace[\"dip\"][:,0]), \"dip2\": np.array(trace[\"dip\"][:,1]),\n",
    "                       \"length\": np.array(trace[\"length\"]), \"center_x\": np.array(trace[\"cx\"])})\n",
    "data_re.to_csv(\"trace.csv\")\n",
    "summary = pm.summary(trace, hdi_prob=0.95)\n",
    "summary.to_csv('summary.csv')"
   ]
  },
  {
   "cell_type": "code",
   "execution_count": 26,
   "metadata": {},
   "outputs": [
    {
     "data": {
      "text/plain": [
       "array([[0.7003699 , 0.71034664],\n",
       "       [0.12201953, 0.78867865],\n",
       "       [0.9223356 , 0.8007083 ],\n",
       "       [0.05023457, 0.91152185],\n",
       "       [0.9615972 , 0.94146395],\n",
       "       [0.9635713 , 0.20392953],\n",
       "       [0.70735025, 0.83306706],\n",
       "       [0.91942924, 0.51074433],\n",
       "       [0.91490924, 0.5381824 ],\n",
       "       [0.97523665, 0.7767014 ]], dtype=float32)"
      ]
     },
     "execution_count": 26,
     "metadata": {},
     "output_type": "execute_result"
    }
   ],
   "source": [
    "trace[\"density\"]"
   ]
  },
  {
   "cell_type": "code",
   "execution_count": null,
   "metadata": {},
   "outputs": [],
   "source": []
  }
 ],
 "metadata": {
  "kernelspec": {
   "display_name": "Python 3.8.8 ('base')",
   "language": "python",
   "name": "python3"
  },
  "language_info": {
   "codemirror_mode": {
    "name": "ipython",
    "version": 3
   },
   "file_extension": ".py",
   "mimetype": "text/x-python",
   "name": "python",
   "nbconvert_exporter": "python",
   "pygments_lexer": "ipython3",
   "version": "3.8.8"
  },
  "vscode": {
   "interpreter": {
    "hash": "597005353344b74b1d261144433646eafae1da03d54630f5972c9f29bb78d14e"
   }
  }
 },
 "nbformat": 4,
 "nbformat_minor": 4
}
